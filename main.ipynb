{
 "cells": [
  {
   "cell_type": "code",
   "execution_count": 27,
   "metadata": {},
   "outputs": [],
   "source": [
    "import numpy as np\n",
    "import argparse\n",
    "from copy import deepcopy\n",
    "import torch\n",
    "import gym\n",
    "from boids import parallel_env as penv\n",
    "from boids import config\n",
    "from ddpg import DDPG\n",
    "from args import parameter_args\n",
    "from ou_noise import ouNoise\n",
    "from replay import Prioritized_Experience_Replay as PER\n",
    "import yaml"
   ]
  },
  {
   "cell_type": "code",
   "execution_count": 18,
   "metadata": {},
   "outputs": [],
   "source": [
    "def collect_experience(env,obs,args,agent_per,adversary_per,agent_ddpg,adversary_ddpg):\n",
    "    count=0\n",
    "    done=False\n",
    "    while (count<=args.timesteps)or (not done):\n",
    "        actions={}\n",
    "        for key in obs:\n",
    "            if(key.find('adversary') != -1):\n",
    "                temp=adversary_ddpg.get_actions(obs[key])\n",
    "                actions[key]=temp\n",
    "            else:\n",
    "                temp=agent_ddpg.get_actions(obs[key])\n",
    "                actions[key]=temp\n",
    "\n",
    "        nex_obs, reward, done,_= env.step(actions)\n",
    "\n",
    "        for key in obs:\n",
    "            if(key.find('adversary') != -1):\n",
    "                adversary_per.push(obs[key],actions[key],reward,nex_obs[key],done)\n",
    "            else:\n",
    "                agent_per.push(obs[key],actions[key],reward,nex_obs[key],done)\n",
    "        obs=nex_obs"
   ]
  },
  {
   "cell_type": "code",
   "execution_count": 32,
   "metadata": {},
   "outputs": [
    {
     "ename": "FileNotFoundError",
     "evalue": "[Errno 2] No such file or directory: 'config/paramters.yml'",
     "output_type": "error",
     "traceback": [
      "\u001b[1;31m---------------------------------------------------------------------------\u001b[0m",
      "\u001b[1;31mFileNotFoundError\u001b[0m                         Traceback (most recent call last)",
      "\u001b[1;32m~\\AppData\\Local\\Temp/ipykernel_25612/4000071965.py\u001b[0m in \u001b[0;36m<module>\u001b[1;34m\u001b[0m\n\u001b[0;32m      5\u001b[0m \u001b[0mfname\u001b[0m\u001b[1;33m=\u001b[0m\u001b[1;34m'config/parameters.yml'\u001b[0m\u001b[1;33m\u001b[0m\u001b[1;33m\u001b[0m\u001b[0m\n\u001b[0;32m      6\u001b[0m \u001b[1;33m\u001b[0m\u001b[0m\n\u001b[1;32m----> 7\u001b[1;33m \u001b[0margs\u001b[0m\u001b[1;33m=\u001b[0m\u001b[0mparameter_args\u001b[0m\u001b[1;33m(\u001b[0m\u001b[1;33m)\u001b[0m\u001b[1;33m\u001b[0m\u001b[1;33m\u001b[0m\u001b[0m\n\u001b[0m\u001b[0;32m      8\u001b[0m \u001b[0magent_per\u001b[0m\u001b[1;33m=\u001b[0m\u001b[0mPER\u001b[0m\u001b[1;33m(\u001b[0m\u001b[0margs\u001b[0m\u001b[1;33m.\u001b[0m\u001b[0mbuffer_size_agent\u001b[0m\u001b[1;33m,\u001b[0m\u001b[0margs\u001b[0m\u001b[1;33m.\u001b[0m\u001b[0mexp_alpha\u001b[0m\u001b[1;33m,\u001b[0m\u001b[0margs\u001b[0m\u001b[1;33m.\u001b[0m\u001b[0mbatch_size\u001b[0m\u001b[1;33m)\u001b[0m\u001b[1;33m\u001b[0m\u001b[1;33m\u001b[0m\u001b[0m\n\u001b[0;32m      9\u001b[0m \u001b[0madversary_per\u001b[0m\u001b[1;33m=\u001b[0m\u001b[0mPER\u001b[0m\u001b[1;33m(\u001b[0m\u001b[0margs\u001b[0m\u001b[1;33m.\u001b[0m\u001b[0mbuffer_size_adversary\u001b[0m\u001b[1;33m,\u001b[0m\u001b[0margs\u001b[0m\u001b[1;33m.\u001b[0m\u001b[0mexp_alpha\u001b[0m\u001b[1;33m,\u001b[0m\u001b[0margs\u001b[0m\u001b[1;33m.\u001b[0m\u001b[0mbatch_size\u001b[0m\u001b[1;33m)\u001b[0m\u001b[1;33m\u001b[0m\u001b[1;33m\u001b[0m\u001b[0m\n",
      "\u001b[1;32mc:\\Users\\91900\\Documents\\GitHub\\Multi-Agent-Flocking\\args.py\u001b[0m in \u001b[0;36m__init__\u001b[1;34m(self, fname)\u001b[0m\n\u001b[0;32m      5\u001b[0m \u001b[1;33m\u001b[0m\u001b[0m\n\u001b[0;32m      6\u001b[0m     \u001b[1;32mdef\u001b[0m \u001b[0m__init__\u001b[0m\u001b[1;33m(\u001b[0m\u001b[0mself\u001b[0m\u001b[1;33m,\u001b[0m \u001b[0mfname\u001b[0m\u001b[1;33m=\u001b[0m\u001b[1;34m'config/parameters.yml'\u001b[0m\u001b[1;33m)\u001b[0m\u001b[1;33m:\u001b[0m\u001b[1;33m\u001b[0m\u001b[1;33m\u001b[0m\u001b[0m\n\u001b[1;32m----> 7\u001b[1;33m         \u001b[1;32mwith\u001b[0m \u001b[0mopen\u001b[0m\u001b[1;33m(\u001b[0m\u001b[0mfname\u001b[0m\u001b[1;33m,\u001b[0m \u001b[1;34m'r'\u001b[0m\u001b[1;33m)\u001b[0m \u001b[1;32mas\u001b[0m \u001b[0mfile\u001b[0m\u001b[1;33m:\u001b[0m\u001b[1;33m\u001b[0m\u001b[1;33m\u001b[0m\u001b[0m\n\u001b[0m\u001b[0;32m      8\u001b[0m             \u001b[0margs\u001b[0m \u001b[1;33m=\u001b[0m \u001b[0myaml\u001b[0m\u001b[1;33m.\u001b[0m\u001b[0msafe_load\u001b[0m\u001b[1;33m(\u001b[0m\u001b[0mfile\u001b[0m\u001b[1;33m)\u001b[0m\u001b[1;33m\u001b[0m\u001b[1;33m\u001b[0m\u001b[0m\n\u001b[0;32m      9\u001b[0m \u001b[1;33m\u001b[0m\u001b[0m\n",
      "\u001b[1;31mFileNotFoundError\u001b[0m: [Errno 2] No such file or directory: 'config/paramters.yml'"
     ]
    }
   ],
   "source": [
    "env = penv(config=config)\n",
    "obs=env.reset()\n",
    "num_states=env.observation_spaces['agent_0'].shape[0]\n",
    "num_actions=env.action_spaces['agent_0'].shape[0]\n",
    "fname='config/parameters.yml'\n",
    "\n",
    "args=parameter_args()\n",
    "agent_per=PER(args.buffer_size_agent,args.exp_alpha,args.batch_size)\n",
    "adversary_per=PER(args.buffer_size_adversary,args.exp_alpha,args.batch_size)\n",
    "agent_ddpg=DDPG(num_states,num_actions,args)\n",
    "adversary_ddpg=DDPG(num_states,num_actions,args)\n",
    "\n",
    "obs=env.reset()\n",
    "collect_experience(env,obs,args,agent_per,adversary_per,agent_ddpg,adversary_ddpg)\n"
   ]
  }
 ],
 "metadata": {
  "interpreter": {
   "hash": "8253cb40f665067aaea6c4c246d12263e358d75b028e7ed0e0eb65efef84ea1b"
  },
  "kernelspec": {
   "display_name": "Python 3.9.0 64-bit",
   "language": "python",
   "name": "python3"
  },
  "language_info": {
   "codemirror_mode": {
    "name": "ipython",
    "version": 3
   },
   "file_extension": ".py",
   "mimetype": "text/x-python",
   "name": "python",
   "nbconvert_exporter": "python",
   "pygments_lexer": "ipython3",
   "version": "3.9.0"
  },
  "orig_nbformat": 4
 },
 "nbformat": 4,
 "nbformat_minor": 2
}
