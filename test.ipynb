{
 "cells": [
  {
   "cell_type": "code",
   "execution_count": 43,
   "metadata": {},
   "outputs": [],
   "source": [
    "from boids import parallel_env,env\n",
    "import numpy as np"
   ]
  },
  {
   "cell_type": "code",
   "execution_count": 44,
   "metadata": {},
   "outputs": [],
   "source": [
    "config = {\n",
    "    \n",
    "    \"max_cycles\" : 25,\n",
    "    \"num_good\" : 3,\n",
    "    \"num_advr\" : 1,\n",
    "    \"num_obst\" : 2,\n",
    "    \n",
    "    \"good_size\" : 0.05,\n",
    "    \"advr_size\" : 0.075,\n",
    "    \"obst_size\" : 0.2,\n",
    "    \n",
    "    \"advr_accel\" : 3.0,\n",
    "    \"good_accel\" : 4.0,\n",
    "    \n",
    "    \"advr_max_speed\" : 1.0,\n",
    "    \"good_max_speed\" : 1.3,\n",
    "    \n",
    "    \"good_color\" : np.array([0.35, 0.85, 0.35]),\n",
    "    \"obst_color\" : np.array([0.25, 0.25, 0.25]),\n",
    "    \"advr_color\" : np.array([0.85, 0.35, 0.35]),\n",
    "    \n",
    "    \"good_spawn_range\" : 1,\n",
    "    \"advr_spawn_range\" : 1,\n",
    "    \"obst_spawn_range\" : 0.9,\n",
    "    \n",
    "    \"observation_resolution\" : 6,\n",
    "\n",
    "    \"good_col_range\" : 1,\n",
    "    \"advr_col_range\" : 1\n",
    "\n",
    "}\n"
   ]
  },
  {
   "cell_type": "code",
   "execution_count": 45,
   "metadata": {},
   "outputs": [],
   "source": [
    "test_env = parallel_env(config = config)"
   ]
  },
  {
   "cell_type": "code",
   "execution_count": 46,
   "metadata": {},
   "outputs": [
    {
     "data": {
      "text/plain": [
       "{'adversary_0': array([ 0.        ,  0.        ,  0.20440297, -0.17180507,  0.5       ,\n",
       "         0.5       ,  0.5       ,  0.5       ,  0.5       ,  0.5       ,\n",
       "         0.5       ,  0.5       ,  0.5       ,  0.5       ,  0.5       ,\n",
       "         0.5       ,  0.5       ,  0.5       ,  0.5       ,  0.5       ,\n",
       "         0.5       ,  0.5       ,  0.        ,  0.        ,  0.        ,\n",
       "         0.        ,  0.        ,  0.        ,  0.        ,  0.        ,\n",
       "         0.        ,  0.        ,  0.        ,  0.        ], dtype=float32),\n",
       " 'agent_0': array([ 0.        ,  0.        , -0.9478503 ,  0.10721039,  0.5       ,\n",
       "         0.06778623,  0.5       ,  0.5       ,  0.08190665,  0.5       ,\n",
       "         0.5       ,  0.5       ,  0.5       ,  0.5       ,  0.5       ,\n",
       "         0.5       ,  0.5       ,  0.5       ,  0.5       ,  0.5       ,\n",
       "         0.5       ,  0.5       ,  0.        ,  0.        ,  0.        ,\n",
       "         0.        ,  0.        ,  0.        ,  0.        ,  0.        ,\n",
       "         0.        ,  0.        ,  0.        ,  0.        ], dtype=float32),\n",
       " 'agent_1': array([ 0.       ,  0.       , -0.8896633,  0.1600439,  0.5      ,\n",
       "         0.5      ,  0.5      ,  0.5      ,  0.5      ,  0.5      ,\n",
       "         0.5      ,  0.5      ,  0.5      ,  0.5      ,  0.5      ,\n",
       "         0.5      ,  0.5      ,  0.5      ,  0.5      ,  0.5      ,\n",
       "         0.5      ,  0.5      ,  0.       ,  0.       ,  0.       ,\n",
       "         0.       ,  0.       ,  0.       ,  0.       ,  0.       ,\n",
       "         0.       ,  0.       ,  0.       ,  0.       ], dtype=float32),\n",
       " 'agent_2': array([ 0.        ,  0.        , -0.5961583 , -0.51766765,  0.5       ,\n",
       "         0.5       ,  0.5       ,  0.5       ,  0.5       ,  0.5       ,\n",
       "         0.5       ,  0.5       ,  0.5       ,  0.5       ,  0.5       ,\n",
       "         0.5       ,  0.03390697,  0.5       ,  0.5       ,  0.1255993 ,\n",
       "         0.5       ,  0.5       ,  0.        ,  0.        ,  0.        ,\n",
       "         0.        ,  0.        ,  0.        ,  0.        ,  0.        ,\n",
       "         0.        ,  0.        ,  0.        ,  0.        ], dtype=float32)}"
      ]
     },
     "execution_count": 46,
     "metadata": {},
     "output_type": "execute_result"
    }
   ],
   "source": [
    "test_env.reset()"
   ]
  },
  {
   "cell_type": "code",
   "execution_count": 47,
   "metadata": {},
   "outputs": [
    {
     "data": {
      "text/plain": [
       "{'adversary_0': Discrete(5),\n",
       " 'agent_0': Discrete(5),\n",
       " 'agent_1': Discrete(5),\n",
       " 'agent_2': Discrete(5)}"
      ]
     },
     "execution_count": 47,
     "metadata": {},
     "output_type": "execute_result"
    }
   ],
   "source": [
    "test_env.action_spaces"
   ]
  },
  {
   "cell_type": "code",
   "execution_count": null,
   "metadata": {},
   "outputs": [],
   "source": []
  }
 ],
 "metadata": {
  "interpreter": {
   "hash": "594746bd58ad4cf9d83a9cb214b5f9a36400c8f0eefec10d2e821da258796cec"
  },
  "kernelspec": {
   "display_name": "Python 3.9.10 64-bit ('def': venv)",
   "language": "python",
   "name": "python3"
  },
  "language_info": {
   "codemirror_mode": {
    "name": "ipython",
    "version": 3
   },
   "file_extension": ".py",
   "mimetype": "text/x-python",
   "name": "python",
   "nbconvert_exporter": "python",
   "pygments_lexer": "ipython3",
   "version": "3.9.10"
  },
  "orig_nbformat": 4
 },
 "nbformat": 4,
 "nbformat_minor": 2
}
