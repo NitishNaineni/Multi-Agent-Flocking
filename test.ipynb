{
 "cells": [
  {
   "cell_type": "code",
   "execution_count": 1,
   "metadata": {},
   "outputs": [],
   "source": [
    "from boids import parallel_env,env\n",
    "import numpy as np"
   ]
  },
  {
   "cell_type": "code",
   "execution_count": 4,
   "metadata": {},
   "outputs": [],
   "source": [
    "config = {\n",
    "    \"shape\" : True,\n",
    "    \"max_cycles\" : 25,\n",
    "    \"num_good\" : 3,\n",
    "    \"num_advr\" : 1,\n",
    "    \"num_obst\" : 2,\n",
    "    \n",
    "    \"good_size\" : 0.05,\n",
    "    \"advr_size\" : 0.075,\n",
    "    \"obst_size\" : 0.2,\n",
    "    \n",
    "    \"advr_accel\" : 3.0,\n",
    "    \"good_accel\" : 4.0,\n",
    "    \n",
    "    \"advr_max_speed\" : 1.0,\n",
    "    \"good_max_speed\" : 1.3,\n",
    "    \n",
    "    \"good_color\" : np.array([0.35, 0.85, 0.35]),\n",
    "    \"obst_color\" : np.array([0.25, 0.25, 0.25]),\n",
    "    \"advr_color\" : np.array([0.85, 0.35, 0.35]),\n",
    "    \n",
    "    \"good_spawn_range\" : 1,\n",
    "    \"advr_spawn_range\" : 1,\n",
    "    \"obst_spawn_range\" : 0.9,\n",
    "    \n",
    "    \"observation_resolution\" : 6,\n",
    "\n",
    "    \"good_col_range\" : 1,\n",
    "    \"advr_col_range\" : 1\n",
    "\n",
    "}\n"
   ]
  },
  {
   "cell_type": "code",
   "execution_count": 5,
   "metadata": {},
   "outputs": [],
   "source": [
    "test_env = parallel_env(config = config)"
   ]
  },
  {
   "cell_type": "code",
   "execution_count": 10,
   "metadata": {},
   "outputs": [],
   "source": [
    "test_env.reset()\n",
    "action = {\"adversary_0\":[0,0,0,0,0],\n",
    "\"agent_0\":[0,0,0,0,0],\n",
    "\"agent_1\":[0,0,0,0,0],\n",
    "\"agent_2\":[0,0,0,0,0],\n",
    "}\n",
    "x = test_env.step(action)\n",
    "test_env.render()"
   ]
  },
  {
   "cell_type": "code",
   "execution_count": 11,
   "metadata": {},
   "outputs": [
    {
     "data": {
      "text/plain": [
       "({'adversary_0': array([0.        , 0.        , 0.5974316 , 0.31998703, 0.5       ,\n",
       "         0.5       , 0.5       , 0.5       , 0.5       , 0.5       ,\n",
       "         0.5       , 0.5       , 0.5       , 0.5       , 0.5       ,\n",
       "         0.5       , 0.5       , 0.5       , 0.5       , 0.5       ,\n",
       "         0.5       , 0.5       , 0.        , 0.        , 0.        ,\n",
       "         0.        , 0.        , 0.        , 0.        , 0.        ,\n",
       "         0.        , 0.        , 0.        , 0.        ], dtype=float32),\n",
       "  'agent_0': array([-0.63328063, -0.54096997, -0.61075294, -0.71803564,  0.5       ,\n",
       "          0.5       ,  0.5       ,  0.5       ,  0.5       ,  0.5       ,\n",
       "          0.5       ,  0.5       ,  0.5       ,  0.5       ,  0.5       ,\n",
       "          0.5       ,  0.5       ,  0.18055536,  0.5       ,  0.5       ,\n",
       "          0.29076472,  0.5       ,  0.        ,  0.        ,  0.        ,\n",
       "          0.        ,  0.        ,  0.        ,  0.        ,  0.        ,\n",
       "          0.        ,  0.        ,  0.        ,  0.        ], dtype=float32),\n",
       "  'agent_1': array([-0.        ,  0.        , -0.9471155 ,  0.16063736,  0.5       ,\n",
       "          0.5       ,  0.5       ,  0.5       ,  0.5       ,  0.5       ,\n",
       "          0.5       ,  0.5       ,  0.5       ,  0.5       ,  0.5       ,\n",
       "          0.5       ,  0.5       ,  0.5       ,  0.5       ,  0.5       ,\n",
       "          0.5       ,  0.5       ,  0.        ,  0.        ,  0.        ,\n",
       "          0.        ,  0.        ,  0.        ,  0.        ,  0.        ,\n",
       "          0.        ,  0.        ,  0.        ,  0.        ], dtype=float32),\n",
       "  'agent_2': array([-5.3832941e-26, -7.2851588e-26, -8.2860404e-01, -5.9521687e-01,\n",
       "          5.0000000e-01,  5.0000000e-01,  5.0000000e-01,  5.0000000e-01,\n",
       "          5.0000000e-01,  5.0000000e-01,  5.0000000e-01,  5.0000000e-01,\n",
       "          5.0000000e-01,  5.0000000e-01,  5.0000000e-01,  5.0000000e-01,\n",
       "          3.1608433e-01,  2.0711204e-01,  5.0000000e-01,  4.9979207e-01,\n",
       "          3.9514729e-01,  5.0000000e-01,  0.0000000e+00,  0.0000000e+00,\n",
       "          0.0000000e+00,  0.0000000e+00,  0.0000000e+00,  0.0000000e+00,\n",
       "          0.0000000e+00,  0.0000000e+00,  0.0000000e+00,  0.0000000e+00,\n",
       "          0.0000000e+00,  0.0000000e+00], dtype=float32)},\n",
       " defaultdict(int,\n",
       "             {'adversary_0': -0.1552745304347335,\n",
       "              'agent_0': 0.15928593711408426,\n",
       "              'agent_1': -0.3158802365296266,\n",
       "              'agent_2': 0.1694454456264355}),\n",
       " {'adversary_0': False, 'agent_0': False, 'agent_1': False, 'agent_2': False},\n",
       " {'adversary_0': {}, 'agent_0': {}, 'agent_1': {}, 'agent_2': {}})"
      ]
     },
     "execution_count": 11,
     "metadata": {},
     "output_type": "execute_result"
    }
   ],
   "source": [
    "x"
   ]
  },
  {
   "cell_type": "code",
   "execution_count": 16,
   "metadata": {},
   "outputs": [],
   "source": [
    "def segment_collisions(circle_center,circle_radius):\n",
    "    c = circle_center\n",
    "    p1 = - c\n",
    "    p2 = col_lines - c\n",
    "    d = col_lines\n",
    "    dr = np.expand_dims((d**2).sum(axis=1),1)\n",
    "    temp = p1 * np.flip(p2,axis=1)\n",
    "    big_d = np.expand_dims(temp[:,0] - temp[:,1],1)\n",
    "    det = circle_radius**2 * dr**2 - big_d**2\n",
    "    sign = -np.sign(d)\n",
    "    big_d2 = np.hstack([big_d,-big_d])\n",
    "    pi = c + (big_d2 * np.flip(d,axis=1) - d * np.sign(det) * abs(det)**0.5) / dr**2\n",
    "    frac = np.choose(abs(d).argmax(axis=1),pi.T)\n",
    "    selector = (0 <= frac) & (frac <= 1) & (np.squeeze(det) > 0)\n",
    "    pi[~selector] = col_lines[0]\n",
    "    return np.sqrt((pi**2).sum(axis=1)),selector"
   ]
  },
  {
   "cell_type": "code",
   "execution_count": 32,
   "metadata": {},
   "outputs": [],
   "source": [
    "res = 100\n",
    "col_lines = np.array([(np.cos(2 * np.pi * i / res),np.sin(2 * np.pi * i / res)) \n",
    "                                   for i in range(res)],dtype=np.float16)"
   ]
  },
  {
   "cell_type": "code",
   "execution_count": 33,
   "metadata": {},
   "outputs": [
    {
     "data": {
      "text/plain": [
       "(array([1.        , 0.70681247, 0.61881138, 0.56301425, 0.52323617,\n",
       "        0.49336145, 0.47053567, 0.45283552, 0.4391315 , 0.42909302,\n",
       "        0.42147052, 0.41698099, 0.41446151, 0.41446151, 0.41698099,\n",
       "        0.42147052, 0.42909302, 0.4391315 , 0.45283552, 0.47053567,\n",
       "        0.49336145, 0.52323617, 0.56301425, 0.61881138, 0.70681247,\n",
       "        1.        , 1.        , 1.        , 1.        , 1.        ,\n",
       "        1.        , 1.        , 1.        , 1.        , 1.        ,\n",
       "        1.        , 1.        , 1.        , 1.        , 1.        ,\n",
       "        1.        , 1.        , 1.        , 1.        , 1.        ,\n",
       "        1.        , 1.        , 1.        , 1.        , 1.        ,\n",
       "        1.        , 1.        , 1.        , 1.        , 1.        ,\n",
       "        1.        , 1.        , 1.        , 1.        , 1.        ,\n",
       "        1.        , 1.        , 1.        , 1.        , 1.        ,\n",
       "        1.        , 1.        , 1.        , 1.        , 1.        ,\n",
       "        1.        , 1.        , 1.        , 1.        , 1.        ,\n",
       "        1.        , 1.        , 1.        , 1.        , 1.        ,\n",
       "        1.        , 1.        , 1.        , 1.        , 1.        ,\n",
       "        1.        , 1.        , 1.        , 1.        , 1.        ,\n",
       "        1.        , 1.        , 1.        , 1.        , 1.        ,\n",
       "        1.        , 1.        , 1.        , 1.        , 1.        ]),\n",
       " array([False,  True,  True,  True,  True,  True,  True,  True,  True,\n",
       "         True,  True,  True,  True,  True,  True,  True,  True,  True,\n",
       "         True,  True,  True,  True,  True,  True,  True, False, False,\n",
       "        False, False, False, False, False, False, False, False, False,\n",
       "        False, False, False, False, False, False, False, False, False,\n",
       "        False, False, False, False, False, False, False, False, False,\n",
       "        False, False, False, False, False, False, False, False, False,\n",
       "        False, False, False, False, False, False, False, False, False,\n",
       "        False, False, False, False, False, False, False, False, False,\n",
       "        False, False, False, False, False, False, False, False, False,\n",
       "        False, False, False, False, False, False, False, False, False,\n",
       "        False]))"
      ]
     },
     "execution_count": 33,
     "metadata": {},
     "output_type": "execute_result"
    }
   ],
   "source": [
    "segment_collisions(np.array([1,1]),1)"
   ]
  },
  {
   "cell_type": "code",
   "execution_count": 24,
   "metadata": {},
   "outputs": [
    {
     "data": {
      "text/plain": [
       "array([1, 2, 1])"
      ]
     },
     "execution_count": 24,
     "metadata": {},
     "output_type": "execute_result"
    }
   ],
   "source": [
    "np.minimum(np.array([1,2,3]),np.array([3,2,1]))"
   ]
  },
  {
   "cell_type": "code",
   "execution_count": null,
   "metadata": {},
   "outputs": [],
   "source": []
  }
 ],
 "metadata": {
  "interpreter": {
   "hash": "d5b53d600c30c432c9f427e0099044907f5b90ab104622449e78aa45f8a63a20"
  },
  "kernelspec": {
   "display_name": "Python 3.9.10 64-bit ('def': venv)",
   "language": "python",
   "name": "python3"
  },
  "language_info": {
   "codemirror_mode": {
    "name": "ipython",
    "version": 3
   },
   "file_extension": ".py",
   "mimetype": "text/x-python",
   "name": "python",
   "nbconvert_exporter": "python",
   "pygments_lexer": "ipython3",
   "version": "3.9.10"
  },
  "orig_nbformat": 4
 },
 "nbformat": 4,
 "nbformat_minor": 2
}
